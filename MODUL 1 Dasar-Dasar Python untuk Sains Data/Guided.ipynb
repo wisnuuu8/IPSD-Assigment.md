{
 "cells": [
  {
   "cell_type": "code",
   "execution_count": 1,
   "id": "cc209662-d02f-4f14-aade-91e0b57b7f6f",
   "metadata": {},
   "outputs": [
    {
     "name": "stdin",
     "output_type": "stream",
     "text": [
      "Masukkan sebuah angka:  2\n"
     ]
    },
    {
     "name": "stdout",
     "output_type": "stream",
     "text": [
      "Kuadrat dari 2 adalah 4\n"
     ]
    }
   ],
   "source": [
    "### Lambda dan Higher-Order Functions\n",
    "# Fungsi lambda untuk menghitung kuadrat\n",
    "kuadrat = lambda x: x ** 2\n",
    "\n",
    "# Memasukkan input dari pengguna\n",
    "angka = int(input(\"Masukkan sebuah angka: \"))\n",
    "\n",
    "# Menghitung kuadrat dari angka yang dimasukkan\n",
    "hasil = kuadrat(angka)\n",
    "\n",
    "# Menampilkan hasil\n",
    "print(f\"Kuadrat dari {angka} adalah {hasil}\")\n"
   ]
  },
  {
   "cell_type": "code",
   "execution_count": 5,
   "id": "4be25345-761e-44b9-8109-b8dacbf8bda8",
   "metadata": {},
   "outputs": [
    {
     "name": "stdin",
     "output_type": "stream",
     "text": [
      "Masukkan sebuah angka:  4\n"
     ]
    },
    {
     "name": "stdout",
     "output_type": "stream",
     "text": [
      "Akar kuadrat dari 4.0 adalah 2.0\n"
     ]
    }
   ],
   "source": [
    "### Modules dan Packages\n",
    "# Meng-import modul matematika\n",
    "import math\n",
    "\n",
    "# Memasukkan input dari pengguna\n",
    "angka = float(input(\"Masukkan sebuah angka: \"))\n",
    "\n",
    "# Menggunakan fungsi sqrt dari modul math untuk menghitung akar kuadrat\n",
    "hasil = math.sqrt(angka)\n",
    "\n",
    "# Menampilkan hasil\n",
    "print(f\"Akar kuadrat dari {angka} adalah {hasil}\")\n"
   ]
  },
  {
   "cell_type": "code",
   "execution_count": 9,
   "id": "e824beed-4511-477d-8348-0f2343fe1c98",
   "metadata": {},
   "outputs": [
    {
     "name": "stdin",
     "output_type": "stream",
     "text": [
      "Masukkan sebuah string:  wisnu aji sanjaya \n"
     ]
    },
    {
     "name": "stdout",
     "output_type": "stream",
     "text": [
      "Jumlah huruf vokal dalam string adalah: 7\n"
     ]
    }
   ],
   "source": [
    "## Miscellaneous\n",
    "def hitung_huruf_vokal(teks):\n",
    "    vokal = \"aiueoAIUEO\"\n",
    "    jumlah_vokal = 0\n",
    "\n",
    "    for huruf in teks:\n",
    "        if huruf in vokal:\n",
    "            jumlah_vokal += 1\n",
    "\n",
    "    return jumlah_vokal\n",
    "\n",
    "# Contoh penggunaan\n",
    "teks = input(\"Masukkan sebuah string: \")\n",
    "jumlah = hitung_huruf_vokal(teks)\n",
    "\n",
    "print(f\"Jumlah huruf vokal dalam string adalah: {jumlah}\")\n"
   ]
  },
  {
   "cell_type": "code",
   "execution_count": 11,
   "id": "3bed7be1-2a6c-4d67-96c1-bd8404b2431b",
   "metadata": {},
   "outputs": [
    {
     "name": "stdin",
     "output_type": "stream",
     "text": [
      "Masukkan nama mahasiswa:  wisnu\n",
      "Masukkan umur mahasiswa:  16\n"
     ]
    },
    {
     "name": "stdout",
     "output_type": "stream",
     "text": [
      "Nama: wisnu\n",
      "Umur: 16\n"
     ]
    }
   ],
   "source": [
    "### OOP (Object-Oriented Programming)\n",
    "class Mahasiswa:\n",
    "    # Konstruktor untuk inisialisasi atribut nama dan umur\n",
    "    def __init__(self, nama, umur):\n",
    "        self.nama = nama\n",
    "        self.umur = umur\n",
    "\n",
    "    # Method untuk menampilkan informasi mahasiswa\n",
    "    def tampilkan_info(self):\n",
    "        print(f\"Nama: {self.nama}\")\n",
    "        print(f\"Umur: {self.umur}\")\n",
    "\n",
    "# Memasukkan data mahasiswa dari input pengguna\n",
    "nama = input(\"Masukkan nama mahasiswa: \")\n",
    "umur = int(input(\"Masukkan umur mahasiswa: \"))\n",
    "\n",
    "# Membuat objek Mahasiswa dengan input pengguna\n",
    "mahasiswa = Mahasiswa(nama, umur)\n",
    "\n",
    "# Memanggil method untuk menampilkan informasi\n",
    "mahasiswa.tampilkan_info()\n"
   ]
  },
  {
   "cell_type": "code",
   "execution_count": null,
   "id": "fbd9b929-18c8-483d-83e4-5b167d5453d7",
   "metadata": {},
   "outputs": [],
   "source": []
  }
 ],
 "metadata": {
  "kernelspec": {
   "display_name": "Python 3 (ipykernel)",
   "language": "python",
   "name": "python3"
  },
  "language_info": {
   "codemirror_mode": {
    "name": "ipython",
    "version": 3
   },
   "file_extension": ".py",
   "mimetype": "text/x-python",
   "name": "python",
   "nbconvert_exporter": "python",
   "pygments_lexer": "ipython3",
   "version": "3.12.4"
  }
 },
 "nbformat": 4,
 "nbformat_minor": 5
}
