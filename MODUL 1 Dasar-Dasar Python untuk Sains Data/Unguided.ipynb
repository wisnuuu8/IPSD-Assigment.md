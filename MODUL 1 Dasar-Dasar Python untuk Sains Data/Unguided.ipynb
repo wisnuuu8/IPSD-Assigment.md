{
 "cells": [
  {
   "cell_type": "code",
   "execution_count": 1,
   "id": "518c2630-9482-4ef4-8239-cfd3549da681",
   "metadata": {},
   "outputs": [
    {
     "name": "stdout",
     "output_type": "stream",
     "text": [
      "2\n",
      "3 5\n",
      "7 11 13\n",
      "17 19 23 29\n",
      "31 37 41 43 47\n"
     ]
    }
   ],
   "source": [
    "def is_prime(n):\n",
    "    \"\"\"Cek apakah suatu bilangan adalah bilangan prima.\"\"\"\n",
    "    if n <= 1:\n",
    "        return False\n",
    "    for i in range(2, int(n**0.5) + 1):\n",
    "        if n % i == 0:\n",
    "            return False\n",
    "    return True\n",
    "\n",
    "def generate_primes(num_primes):\n",
    "    \"\"\"Menghasilkan daftar bilangan prima sebanyak num_primes.\"\"\"\n",
    "    primes = []\n",
    "    candidate = 2  \n",
    "    while len(primes) < num_primes:\n",
    "        if is_prime(candidate):\n",
    "            primes.append(candidate)\n",
    "        candidate += 1\n",
    "    return primes\n",
    "\n",
    "def generate_pattern(rows):\n",
    "    \"\"\"Menghasilkan pola bilangan prima sesuai jumlah baris yang diinginkan.\"\"\"\n",
    "    primes = generate_primes((rows * (rows + 1)) // 2) \n",
    "    index = 0  # Indeks untuk mengambil bilangan prima\n",
    "\n",
    "    for i in range(1, rows + 1):\n",
    "        line = []\n",
    "        for j in range(i):  \n",
    "            line.append(primes[index])\n",
    "            index += 1\n",
    "        print(\" \".join(map(str, line)))\n",
    "\n",
    "generate_pattern(5)\n"
   ]
  },
  {
   "cell_type": "code",
   "execution_count": 3,
   "id": "e874648f-42e9-417f-aa11-4c3e371b8507",
   "metadata": {},
   "outputs": [
    {
     "name": "stdout",
     "output_type": "stream",
     "text": [
      "[40, 35, 20, 15]\n"
     ]
    }
   ],
   "source": [
    "def combine_and_sort_odd_indices(list1, list2):\n",
    "    \"\"\"Menggabungkan elemen dari dua list yang memiliki indeks ganjil dan mengurutkannya secara menurun.\"\"\"\n",
    "    # Mengambil elemen dengan indeks ganjil dari kedua list\n",
    "    odd_indexed_elements = []\n",
    "    \n",
    "    # Menambahkan elemen dengan indeks ganjil dari list1\n",
    "    odd_indexed_elements.extend(list1[i] for i in range(1, len(list1), 2))\n",
    "    \n",
    "    # Menambahkan elemen dengan indeks ganjil dari list2\n",
    "    odd_indexed_elements.extend(list2[i] for i in range(1, len(list2), 2))\n",
    "    \n",
    "    # Mengurutkan elemen secara menurun\n",
    "    odd_indexed_elements.sort(reverse=True)\n",
    "    \n",
    "    return odd_indexed_elements\n",
    "\n",
    "# Contoh penggunaan\n",
    "list1 = [10, 20, 30, 40, 50]\n",
    "list2 = [5, 15, 25, 35, 45]\n",
    "result = combine_and_sort_odd_indices(list1, list2)\n",
    "print(result)  # Output: [45, 35, 25, 15]\n"
   ]
  },
  {
   "cell_type": "code",
   "execution_count": 5,
   "id": "cdae0a5c-1d6d-44c8-a328-dfb1d5194520",
   "metadata": {},
   "outputs": [
    {
     "name": "stdin",
     "output_type": "stream",
     "text": [
      "Masukkan PIN Anda:  3\n"
     ]
    },
    {
     "name": "stdout",
     "output_type": "stream",
     "text": [
      "PIN salah. Sisa percobaan: 2\n"
     ]
    },
    {
     "name": "stdin",
     "output_type": "stream",
     "text": [
      "Masukkan PIN Anda:  1234\n"
     ]
    },
    {
     "name": "stdout",
     "output_type": "stream",
     "text": [
      "PIN benar.\n"
     ]
    },
    {
     "name": "stdin",
     "output_type": "stream",
     "text": [
      "Masukkan jumlah yang ingin ditarik:  1000\n"
     ]
    },
    {
     "name": "stdout",
     "output_type": "stream",
     "text": [
      "Penarikan berhasil. Saldo akhir Anda adalah: 9000.0\n"
     ]
    }
   ],
   "source": [
    "def atm_simulation():\n",
    "    # PIN dan saldo awal\n",
    "    correct_pin = \"1234\"\n",
    "    balance = 10000  # Saldo awal\n",
    "    attempts = 3\n",
    "\n",
    "    # Meminta pengguna untuk memasukkan PIN\n",
    "    while attempts > 0:\n",
    "        pin = input(\"Masukkan PIN Anda: \")\n",
    "        if pin == correct_pin:\n",
    "            print(\"PIN benar.\")\n",
    "            break\n",
    "        else:\n",
    "            attempts -= 1\n",
    "            print(f\"PIN salah. Sisa percobaan: {attempts}\")\n",
    "\n",
    "    if attempts == 0:\n",
    "        print(\"Akses ditolak. Terlalu banyak percobaan.\")\n",
    "        return\n",
    "\n",
    "    # Meminta jumlah penarikan\n",
    "    try:\n",
    "        amount = float(input(\"Masukkan jumlah yang ingin ditarik: \"))\n",
    "        \n",
    "        if amount <= 0:\n",
    "            raise ValueError(\"Jumlah penarikan harus lebih dari 0.\")\n",
    "        \n",
    "        if amount > balance:\n",
    "            raise ValueError(\"Saldo tidak cukup untuk penarikan ini.\")\n",
    "\n",
    "        # Melakukan penarikan\n",
    "        balance -= amount\n",
    "        print(f\"Penarikan berhasil. Saldo akhir Anda adalah: {balance}\")\n",
    "        \n",
    "    except ValueError as e:\n",
    "        print(f\"Kesalahan: {e}\")\n",
    "\n",
    "atm_simulation()\n"
   ]
  },
  {
   "cell_type": "code",
   "execution_count": 23,
   "id": "42fd9317-8270-4b03-88aa-7325a0d3eabb",
   "metadata": {},
   "outputs": [
    {
     "name": "stdout",
     "output_type": "stream",
     "text": [
      "Rata-rata nilai tiap mahasiswa:\n",
      "Siswa_1: 59.00\n",
      "Siswa_2: 79.00\n",
      "Siswa_3: 61.00\n",
      "Siswa_4: 74.00\n",
      "Siswa_5: 50.00\n",
      "Siswa_6: 70.00\n",
      "Siswa_7: 100.00\n",
      "Siswa_8: 84.00\n",
      "Siswa_9: 78.00\n",
      "Siswa_10: 61.00\n",
      "Siswa_11: 92.00\n",
      "Siswa_12: 60.00\n",
      "Siswa_13: 78.00\n",
      "Siswa_14: 87.00\n",
      "Siswa_15: 57.00\n",
      "Siswa_16: 73.00\n",
      "Siswa_17: 53.00\n",
      "Siswa_18: 54.00\n",
      "Siswa_19: 97.00\n",
      "Siswa_20: 52.00\n",
      "Siswa_21: 84.00\n",
      "Siswa_22: 89.00\n",
      "Siswa_23: 52.00\n",
      "Siswa_24: 90.00\n",
      "Siswa_25: 52.00\n",
      "Siswa_26: 64.00\n",
      "Siswa_27: 96.00\n",
      "Siswa_28: 100.00\n",
      "Siswa_29: 84.00\n",
      "Siswa_30: 60.00\n",
      "Siswa_31: 85.00\n",
      "Siswa_32: 63.00\n",
      "Siswa_33: 64.00\n",
      "Siswa_34: 68.00\n",
      "Siswa_35: 67.00\n",
      "Siswa_36: 52.00\n",
      "Siswa_37: 79.00\n",
      "Siswa_38: 55.00\n",
      "Siswa_39: 88.00\n",
      "Siswa_40: 95.00\n",
      "Siswa_41: 78.00\n",
      "Siswa_42: 66.00\n",
      "Siswa_43: 71.00\n",
      "Siswa_44: 64.00\n",
      "Siswa_45: 51.00\n",
      "Siswa_46: 77.00\n",
      "Siswa_47: 90.00\n",
      "Siswa_48: 83.00\n",
      "Siswa_49: 99.00\n",
      "Siswa_50: 56.00\n",
      "Siswa_51: 68.00\n",
      "Siswa_52: 88.00\n",
      "Siswa_53: 62.00\n",
      "Siswa_54: 98.00\n",
      "Siswa_55: 58.00\n",
      "Siswa_56: 92.00\n",
      "Siswa_57: 60.00\n",
      "Siswa_58: 55.00\n",
      "Siswa_59: 93.00\n",
      "Siswa_60: 60.00\n",
      "Siswa_61: 53.00\n",
      "Siswa_62: 79.00\n",
      "Siswa_63: 75.00\n",
      "Siswa_64: 83.00\n",
      "Siswa_65: 58.00\n",
      "Siswa_66: 50.00\n",
      "Siswa_67: 75.00\n",
      "Siswa_68: 61.00\n",
      "Siswa_69: 57.00\n",
      "Siswa_70: 98.00\n",
      "Siswa_71: 85.00\n",
      "Siswa_72: 57.00\n",
      "Siswa_73: 53.00\n",
      "Siswa_74: 55.00\n",
      "Siswa_75: 54.00\n",
      "Siswa_76: 64.00\n",
      "Siswa_77: 51.00\n",
      "Siswa_78: 65.00\n",
      "Siswa_79: 68.00\n",
      "Siswa_80: 51.00\n",
      "Siswa_81: 99.00\n",
      "Siswa_82: 89.00\n",
      "Siswa_83: 92.00\n",
      "Siswa_84: 56.00\n",
      "Siswa_85: 96.00\n",
      "Siswa_86: 79.00\n",
      "Siswa_87: 76.00\n",
      "Siswa_88: 71.00\n",
      "Siswa_89: 98.00\n",
      "Siswa_90: 89.00\n",
      "Siswa_91: 92.00\n",
      "Siswa_92: 65.00\n",
      "Siswa_93: 50.00\n",
      "Siswa_94: 84.00\n",
      "Siswa_95: 67.00\n",
      "Siswa_96: 59.00\n",
      "Siswa_97: 57.00\n",
      "Siswa_98: 70.00\n",
      "Siswa_99: 66.00\n",
      "Siswa_100: 78.00\n",
      "\n",
      "Mahasiswa dengan nilai tertinggi: Siswa_7 dengan rata-rata 100.00\n",
      "Mahasiswa dengan nilai terendah: Siswa_5 dengan rata-rata 50.00\n"
     ]
    }
   ],
   "source": [
    "import csv\n",
    "\n",
    "def baca_data_csv(nama_file):\n",
    "    # Membaca file CSV dan menyimpan data ke dalam dictionary\n",
    "    data_mahasiswa = {}\n",
    "    \n",
    "    with open(nama_file, newline='') as file_csv:\n",
    "        reader = csv.reader(file_csv)\n",
    "        # Mengabaikan header jika ada\n",
    "        next(reader)  \n",
    "        for row in reader:\n",
    "            nama = row[0]\n",
    "            # Mengubah nilai menjadi float dan menyimpannya sebagai list\n",
    "            nilai = list(map(float, row[1:]))\n",
    "            data_mahasiswa[nama] = nilai\n",
    "    \n",
    "    return data_mahasiswa\n",
    "\n",
    "def hitung_rata_rata(data_mahasiswa):\n",
    "    # Menghitung rata-rata nilai tiap mahasiswa\n",
    "    rata_rata_mahasiswa = {}\n",
    "    for nama, nilai in data_mahasiswa.items():\n",
    "        rata_rata = sum(nilai) / len(nilai)\n",
    "        rata_rata_mahasiswa[nama] = rata_rata\n",
    "    \n",
    "    return rata_rata_mahasiswa\n",
    "\n",
    "def cari_mahasiswa_terbaik_terburuk(rata_rata_mahasiswa):\n",
    "    # Mencari mahasiswa dengan nilai tertinggi dan terendah\n",
    "    mahasiswa_terbaik = max(rata_rata_mahasiswa, key=rata_rata_mahasiswa.get)\n",
    "    mahasiswa_terburuk = min(rata_rata_mahasiswa, key=rata_rata_mahasiswa.get)\n",
    "    \n",
    "    return mahasiswa_terbaik, mahasiswa_terburuk\n",
    "\n",
    "# Contoh penggunaan\n",
    "nama_file = 'siswa_nilai (1).csv'\n",
    "\n",
    "data_mahasiswa = baca_data_csv(nama_file)\n",
    "\n",
    "rata_rata_mahasiswa = hitung_rata_rata(data_mahasiswa)\n",
    "\n",
    "mahasiswa_terbaik, mahasiswa_terburuk = cari_mahasiswa_terbaik_terburuk(rata_rata_mahasiswa)\n",
    "\n",
    "print(\"Rata-rata nilai tiap mahasiswa:\")\n",
    "for nama, rata_rata in rata_rata_mahasiswa.items():\n",
    "    print(f\"{nama}: {rata_rata:.2f}\")\n",
    "\n",
    "print(f\"\\nMahasiswa dengan nilai tertinggi: {mahasiswa_terbaik} dengan rata-rata {rata_rata_mahasiswa[mahasiswa_terbaik]:.2f}\")\n",
    "print(f\"Mahasiswa dengan nilai terendah: {mahasiswa_terburuk} dengan rata-rata {rata_rata_mahasiswa[mahasiswa_terburuk]:.2f}\")\n"
   ]
  },
  {
   "cell_type": "code",
   "execution_count": 9,
   "id": "1955fbec-f1f0-4917-8ef6-7e7dd5a943c8",
   "metadata": {},
   "outputs": [
    {
     "name": "stdout",
     "output_type": "stream",
     "text": [
      "Selamat datang di permainan Tebak Angka!\n",
      "Saya telah memilih sebuah angka antara 1 hingga 100.\n",
      "Anda memiliki 5 percobaan untuk menebaknya.\n"
     ]
    },
    {
     "name": "stdin",
     "output_type": "stream",
     "text": [
      "Tebakan ke-1:  2\n"
     ]
    },
    {
     "name": "stdout",
     "output_type": "stream",
     "text": [
      "Tebakan Anda terlalu kecil.\n"
     ]
    },
    {
     "name": "stdin",
     "output_type": "stream",
     "text": [
      "Tebakan ke-2:  70\n"
     ]
    },
    {
     "name": "stdout",
     "output_type": "stream",
     "text": [
      "Tebakan Anda terlalu besar.\n"
     ]
    },
    {
     "name": "stdin",
     "output_type": "stream",
     "text": [
      "Tebakan ke-3:  53\n"
     ]
    },
    {
     "name": "stdout",
     "output_type": "stream",
     "text": [
      "Tebakan Anda terlalu besar.\n"
     ]
    },
    {
     "name": "stdin",
     "output_type": "stream",
     "text": [
      "Tebakan ke-4:  12\n"
     ]
    },
    {
     "name": "stdout",
     "output_type": "stream",
     "text": [
      "Tebakan Anda terlalu kecil.\n"
     ]
    },
    {
     "name": "stdin",
     "output_type": "stream",
     "text": [
      "Tebakan ke-5:  43\n"
     ]
    },
    {
     "name": "stdout",
     "output_type": "stream",
     "text": [
      "Tebakan Anda terlalu besar.\n",
      "Anda kehabisan percobaan. Angka yang benar adalah: 41.\n"
     ]
    }
   ],
   "source": [
    "import random\n",
    "\n",
    "def tebak_angka():\n",
    "    angka_rahasia = random.randint(1, 100)\n",
    "    percobaan = 5\n",
    "    \n",
    "    print(\"Selamat datang di permainan Tebak Angka!\")\n",
    "    print(\"Saya telah memilih sebuah angka antara 1 hingga 100.\")\n",
    "    print(f\"Anda memiliki {percobaan} percobaan untuk menebaknya.\")\n",
    "\n",
    "    # Loop untuk percobaan menebak\n",
    "    for i in range(percobaan):\n",
    "        try:\n",
    "            tebakan = int(input(f\"Tebakan ke-{i + 1}: \"))\n",
    "            \n",
    "            if tebakan < 1 or tebakan > 100:\n",
    "                print(\"Tebakan harus antara 1 hingga 100. Coba lagi.\")\n",
    "                continue\n",
    "\n",
    "            if tebakan < angka_rahasia:\n",
    "                print(\"Tebakan Anda terlalu kecil.\")\n",
    "            elif tebakan > angka_rahasia:\n",
    "                print(\"Tebakan Anda terlalu besar.\")\n",
    "            else:\n",
    "                print(f\"Selamat! Anda menebak angka yang benar: {angka_rahasia}!\")\n",
    "                break\n",
    "        except ValueError:\n",
    "            print(\"Input tidak valid. Silakan masukkan angka.\")\n",
    "\n",
    "    else:  # Jika loop selesai tanpa break, artinya pemain kalah\n",
    "        print(f\"Anda kehabisan percobaan. Angka yang benar adalah: {angka_rahasia}.\")\n",
    "        \n",
    "# Menjalankan permainan\n",
    "if __name__ == \"__main__\":\n",
    "    tebak_angka()\n"
   ]
  },
  {
   "cell_type": "code",
   "execution_count": 11,
   "id": "f783a70a-5841-4764-bcc1-15089944e498",
   "metadata": {},
   "outputs": [
    {
     "name": "stdout",
     "output_type": "stream",
     "text": [
      "[1, 2, 6, 24]\n"
     ]
    }
   ],
   "source": [
    "def faktorial(n):\n",
    "    \"\"\"Fungsi rekursif untuk menghitung faktorial dari n.\"\"\"\n",
    "    if n == 0 or n == 1:\n",
    "        return 1\n",
    "    else:\n",
    "        return n * faktorial(n - 1)\n",
    "\n",
    "def urutan_faktorial(n):\n",
    "    \"\"\"Fungsi untuk menghasilkan urutan faktorial dari 1 hingga n.\"\"\"\n",
    "    if n < 1:\n",
    "        return []\n",
    "    else:\n",
    "        # Memanggil urutan_faktorial untuk n-1 dan menambahkan faktorial n\n",
    "        return urutan_faktorial(n - 1) + [faktorial(n)]\n",
    "\n",
    "# Contoh penggunaan\n",
    "n = 4\n",
    "output = urutan_faktorial(n)\n",
    "print(output)  # Output: [1, 1, 2, 6, 24]\n"
   ]
  },
  {
   "cell_type": "code",
   "execution_count": 13,
   "id": "7a85c297-d58c-437c-ad6d-983be4534d03",
   "metadata": {},
   "outputs": [
    {
     "name": "stdin",
     "output_type": "stream",
     "text": [
      "Masukkan jumlah uang yang ingin dicapai:  1000000\n",
      "Masukkan nilai koin yang tersedia (pisahkan dengan spasi):  10 000\n"
     ]
    },
    {
     "name": "stdout",
     "output_type": "stream",
     "text": [
      "Kombinasi koin yang diperlukan:\n",
      "Koin 10: 100000 buah\n"
     ]
    }
   ],
   "source": [
    "def min_coin_change(amount, coins):\n",
    "    \"\"\"Menghitung kombinasi minimum koin yang diperlukan untuk mencapai jumlah tertentu.\"\"\"\n",
    "    # Mengurutkan koin dari yang terbesar ke yang terkecil\n",
    "    coins.sort(reverse=True)\n",
    "    \n",
    "    # Menyimpan jumlah koin yang digunakan\n",
    "    coin_count = {}\n",
    "    \n",
    "    for coin in coins:\n",
    "        if amount == 0:\n",
    "            break\n",
    "        \n",
    "        # Menghitung jumlah koin yang bisa digunakan\n",
    "        count = amount // coin\n",
    "        if count > 0:\n",
    "            coin_count[coin] = count\n",
    "            amount -= coin * count\n",
    "            \n",
    "    if amount > 0:\n",
    "        print(\"Tidak mungkin mencapai jumlah uang tersebut dengan koin yang tersedia.\")\n",
    "    else:\n",
    "        print(\"Kombinasi koin yang diperlukan:\")\n",
    "        for coin, count in coin_count.items():\n",
    "            print(f\"Koin {coin}: {count} buah\")\n",
    "\n",
    "def main():\n",
    "    # Meminta input jumlah uang dan daftar koin\n",
    "    try:\n",
    "        amount = int(input(\"Masukkan jumlah uang yang ingin dicapai: \"))\n",
    "        coins_input = input(\"Masukkan nilai koin yang tersedia (pisahkan dengan spasi): \")\n",
    "        coins = list(map(int, coins_input.split()))\n",
    "\n",
    "        if amount < 0:\n",
    "            print(\"Jumlah uang tidak boleh negatif.\")\n",
    "            return\n",
    "        \n",
    "        if not coins:\n",
    "            print(\"Daftar koin tidak boleh kosong.\")\n",
    "            return\n",
    "\n",
    "        min_coin_change(amount, coins)\n",
    "    \n",
    "    except ValueError:\n",
    "        print(\"Input tidak valid. Pastikan Anda memasukkan angka untuk jumlah uang dan nilai koin.\")\n",
    "\n",
    "# Menjalankan program\n",
    "if __name__ == \"__main__\":\n",
    "    main()\n"
   ]
  },
  {
   "cell_type": "code",
   "execution_count": 15,
   "id": "053fced7-160a-403b-a6b6-b82679bc2d40",
   "metadata": {},
   "outputs": [
    {
     "name": "stdin",
     "output_type": "stream",
     "text": [
      "Masukkan string:  aku suka buah\n"
     ]
    },
    {
     "name": "stdout",
     "output_type": "stream",
     "text": [
      "['uka', 'akus', 'haub']\n"
     ]
    }
   ],
   "source": [
    "def reverse_words(input_string):\n",
    "    \"\"\"Mengonversi string menjadi list berisi kata-kata yang terbalik.\"\"\"\n",
    "    # Memecah string menjadi kata-kata\n",
    "    words = input_string.split()\n",
    "    \n",
    "    # Membalik setiap kata dan menyimpannya dalam list\n",
    "    reversed_words = [word[::-1] for word in words]\n",
    "    \n",
    "    return reversed_words\n",
    "\n",
    "def main():\n",
    "    # Meminta input dari pengguna\n",
    "    user_input = input(\"Masukkan string: \")\n",
    "    \n",
    "    # Mengonversi dan menampilkan hasil\n",
    "    result = reverse_words(user_input)\n",
    "    print(result)\n",
    "\n",
    "# Menjalankan program\n",
    "if __name__ == \"__main__\":\n",
    "    main()\n"
   ]
  },
  {
   "cell_type": "code",
   "execution_count": 49,
   "id": "856f1357-da5d-43c8-86b3-f013cfb5aea3",
   "metadata": {},
   "outputs": [
    {
     "name": "stdin",
     "output_type": "stream",
     "text": [
      "Masukkan tahun saat ini:  2012\n",
      "Berapa buku yang ingin Anda masukkan?  2\n"
     ]
    },
    {
     "name": "stdout",
     "output_type": "stream",
     "text": [
      "\n",
      "Masukkan informasi buku ke-1:\n"
     ]
    },
    {
     "name": "stdin",
     "output_type": "stream",
     "text": [
      "Masukkan judul buku:  arti\n",
      "Masukkan penulis buku:  mob\n",
      "Masukkan tahun terbit buku:  2012\n"
     ]
    },
    {
     "name": "stdout",
     "output_type": "stream",
     "text": [
      "\n",
      "Masukkan informasi buku ke-2:\n"
     ]
    },
    {
     "name": "stdin",
     "output_type": "stream",
     "text": [
      "Masukkan judul buku:  \n",
      "Masukkan penulis buku:  1222\n",
      "Masukkan tahun terbit buku:  2012\n"
     ]
    },
    {
     "name": "stdout",
     "output_type": "stream",
     "text": [
      "Judul: arti\n",
      "Penulis: mob\n",
      "Tahun Terbit: 2012\n",
      "Usia Buku: 0 tahun\n",
      "\n",
      "Judul: \n",
      "Penulis: 1222\n",
      "Tahun Terbit: 2012\n",
      "Usia Buku: 0 tahun\n",
      "\n"
     ]
    }
   ],
   "source": [
    "class Buku:\n",
    "    def __init__(self, judul, penulis, tahun_terbit):\n",
    "        \"\"\"Inisialisasi atribut judul, penulis, dan tahun terbit.\"\"\"\n",
    "        self.judul = judul\n",
    "        self.penulis = penulis\n",
    "        self.tahun_terbit = tahun_terbit\n",
    "\n",
    "    def tampilkan_informasi(self):\n",
    "        \"\"\"Menampilkan informasi buku.\"\"\"\n",
    "        print(f\"Judul: {self.judul}\")\n",
    "        print(f\"Penulis: {self.penulis}\")\n",
    "        print(f\"Tahun Terbit: {self.tahun_terbit}\")\n",
    "\n",
    "    def hitung_usia_buku(self, tahun_sekarang):\n",
    "        \"\"\"Menghitung usia buku berdasarkan tahun saat ini.\"\"\"\n",
    "        return tahun_sekarang - self.tahun_terbit\n",
    "\n",
    "def main():\n",
    "    # Tahun saat ini\n",
    "    tahun_sekarang = int(input(\"Masukkan tahun saat ini: \"))\n",
    "\n",
    "    # Memasukkan informasi buku melalui input\n",
    "    jumlah_buku = int(input(\"Berapa buku yang ingin Anda masukkan? \"))\n",
    "\n",
    "    buku_list = []\n",
    "    \n",
    "    for i in range(jumlah_buku):\n",
    "        print(f\"\\nMasukkan informasi buku ke-{i + 1}:\")\n",
    "        judul = input(\"Masukkan judul buku: \")\n",
    "        penulis = input(\"Masukkan penulis buku: \")\n",
    "        tahun_terbit = int(input(\"Masukkan tahun terbit buku: \"))\n",
    "        buku = Buku(judul, penulis, tahun_terbit)\n",
    "        buku_list.append(buku)\n",
    "\n",
    "    # Menampilkan informasi dan usia setiap buku\n",
    "    for buku in buku_list:\n",
    "        buku.tampilkan_informasi()\n",
    "        usia = buku.hitung_usia_buku(tahun_sekarang)\n",
    "        print(f\"Usia Buku: {usia} tahun\\n\")\n",
    "\n",
    "# Menjalankan program\n",
    "if __name__ == \"__main__\":\n",
    "    main()\n"
   ]
  },
  {
   "cell_type": "code",
   "execution_count": 57,
   "id": "044e3b38-cf65-4143-8a1c-f8839ead8e7e",
   "metadata": {},
   "outputs": [
    {
     "name": "stdin",
     "output_type": "stream",
     "text": [
      "Masukkan angka genap yang dipisahkan oleh spasi:  2 4 6 8 10 \n",
      "Masukkan angka yang ingin dicari:  4\n"
     ]
    },
    {
     "name": "stdout",
     "output_type": "stream",
     "text": [
      "Nilai 4 ditemukan di indeks 1.\n"
     ]
    }
   ],
   "source": [
    "def binary_search_even(arr, target):\n",
    "    # Cek apakah target adalah angka ganjil\n",
    "    if target % 2 != 0:\n",
    "        print(f\"Nilai {target} adalah angka ganjil, tidak dapat ditemukan dalam list genap.\")\n",
    "        return -1 \n",
    "\n",
    "    low = 0\n",
    "    high = len(arr) - 1\n",
    "\n",
    "    while low <= high:\n",
    "        mid = (low + high) // 2\n",
    "        # Cek apakah nilai tengah adalah target\n",
    "        if arr[mid] == target:\n",
    "            return mid\n",
    "        # Jika target lebih kecil, abaikan setengah kanan\n",
    "        elif arr[mid] > target:\n",
    "            high = mid - 1\n",
    "        # Jika target lebih besar, abaikan setengah kiri\n",
    "        else:\n",
    "            low = mid + 1\n",
    "\n",
    "    # Jika nilai tidak ditemukan\n",
    "    return -1\n",
    "\n",
    "def main():\n",
    "    # Masukkan list genap (sorted) dari input pengguna\n",
    "    list_genap = list(map(int, input(\"Masukkan angka genap yang dipisahkan oleh spasi: \").split()))\n",
    "    \n",
    "    # Validasi untuk memastikan hanya angka genap\n",
    "    list_genap = [x for x in list_genap if x % 2 == 0]\n",
    "    \n",
    "    # Memasukkan target yang ingin dicari\n",
    "    target = int(input(\"Masukkan angka yang ingin dicari: \"))\n",
    "\n",
    "    # Memanggil fungsi binary_search_even\n",
    "    result = binary_search_even(list_genap, target)\n",
    "\n",
    "    if result != -1:\n",
    "        print(f\"Nilai {target} ditemukan di indeks {result}.\")\n",
    "    else:\n",
    "        print(f\"Nilai {target} tidak ditemukan di dalam list.\")\n",
    "\n",
    "# Menjalankan program\n",
    "if __name__ == \"__main__\":\n",
    "    main()\n"
   ]
  }
 ],
 "metadata": {
  "kernelspec": {
   "display_name": "Python 3 (ipykernel)",
   "language": "python",
   "name": "python3"
  },
  "language_info": {
   "codemirror_mode": {
    "name": "ipython",
    "version": 3
   },
   "file_extension": ".py",
   "mimetype": "text/x-python",
   "name": "python",
   "nbconvert_exporter": "python",
   "pygments_lexer": "ipython3",
   "version": "3.12.4"
  }
 },
 "nbformat": 4,
 "nbformat_minor": 5
}
